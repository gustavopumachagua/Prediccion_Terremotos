{
 "cells": [
  {
   "cell_type": "markdown",
   "metadata": {},
   "source": [
    "# **Entrenamiento de la Predicción de magnitud**"
   ]
  },
  {
   "cell_type": "code",
   "execution_count": 2,
   "metadata": {},
   "outputs": [
    {
     "name": "stdout",
     "output_type": "stream",
     "text": [
      "Error cuadrático medio (MSE) en conjunto de prueba: 0.20692060198475906\n",
      "Coeficiente de determinación (R2) en conjunto de prueba: 0.002931028404225655\n"
     ]
    },
    {
     "data": {
      "text/plain": [
       "['./model/modelo_Mag.joblib']"
      ]
     },
     "execution_count": 2,
     "metadata": {},
     "output_type": "execute_result"
    }
   ],
   "source": [
    "import pandas as pd\n",
    "from sklearn.model_selection import train_test_split\n",
    "from sklearn.linear_model import LinearRegression\n",
    "from sklearn.metrics import mean_squared_error, r2_score\n",
    "import joblib\n",
    "\n",
    "# Cargar los datos desde el archivo CSV\n",
    "data = pd.read_csv('./data/data.csv')\n",
    "\n",
    "# Seleccionar características relevantes\n",
    "features = ['Latitude', 'Longitude', 'Depth']\n",
    "\n",
    "# Dividir los datos en características (X) y etiquetas (y)\n",
    "X = data[features]\n",
    "y = data['Mag']\n",
    "\n",
    "# Dividir el conjunto de datos en conjuntos de entrenamiento y prueba\n",
    "X_train, X_test, y_train, y_test = train_test_split(\n",
    "    X, y, test_size=0.2, random_state=42)\n",
    "\n",
    "# Crear un modelo de regresión lineal\n",
    "model = LinearRegression()\n",
    "\n",
    "# Entrenar el modelo utilizando los datos de entrenamiento\n",
    "model.fit(X_train, y_train)\n",
    "\n",
    "# Realizar predicciones en el conjunto de prueba\n",
    "y_pred = model.predict(X_test)\n",
    "\n",
    "# Calcular el error cuadrático medio (MSE) en el conjunto de prueba\n",
    "mse = mean_squared_error(y_test, y_pred)\n",
    "print('Error cuadrático medio (MSE) en conjunto de prueba:', mse)\n",
    "\n",
    "# Calcular el coeficiente de determinación (R2) en el conjunto de prueba\n",
    "r2 = r2_score(y_test, y_pred)\n",
    "print('Coeficiente de determinación (R2) en conjunto de prueba:', r2)\n",
    "# Guardar el modelo en un archivo\n",
    "joblib.dump(model, './model/modelo_Mag.joblib')"
   ]
  },
  {
   "cell_type": "markdown",
   "metadata": {},
   "source": [
    "# **Entrenamiento de la Predicción del tipo de terremoto**"
   ]
  },
  {
   "cell_type": "code",
   "execution_count": 3,
   "metadata": {},
   "outputs": [
    {
     "name": "stdout",
     "output_type": "stream",
     "text": [
      "Precisión del modelo: 0.994964886709951\n"
     ]
    },
    {
     "data": {
      "text/plain": [
       "['./model/modelo_Type.joblib']"
      ]
     },
     "execution_count": 3,
     "metadata": {},
     "output_type": "execute_result"
    }
   ],
   "source": [
    "import pandas as pd\n",
    "from sklearn.model_selection import train_test_split\n",
    "from sklearn.linear_model import LogisticRegression\n",
    "from sklearn.preprocessing import StandardScaler\n",
    "from sklearn.metrics import accuracy_score\n",
    "import joblib\n",
    "\n",
    "# Cargar los datos desde el archivo CSV\n",
    "data = pd.read_csv('./data/data.csv')\n",
    "\n",
    "# Seleccionar las características relevantes para la predicción\n",
    "features = ['Latitude', 'Longitude', 'Depth', 'Mag']\n",
    "\n",
    "# Dividir los datos en características (X) y etiquetas (y)\n",
    "X = data[features]\n",
    "y = data['Type']\n",
    "\n",
    "# Dividir los datos en conjuntos de entrenamiento y prueba\n",
    "X_train, X_test, y_train, y_test = train_test_split(\n",
    "    X, y, test_size=0.2, random_state=42)\n",
    "\n",
    "# Escalar los datos de entrenamiento y prueba\n",
    "scaler = StandardScaler()\n",
    "X_train_scaled = scaler.fit_transform(X_train)\n",
    "X_test_scaled = scaler.transform(X_test)\n",
    "\n",
    "# Crear un modelo de regresión logística\n",
    "model = LogisticRegression(max_iter=1000)\n",
    "\n",
    "# Entrenar el modelo con los datos de entrenamiento escalados\n",
    "model.fit(X_train_scaled, y_train)\n",
    "\n",
    "# Realizar predicciones en el conjunto de prueba\n",
    "y_pred = model.predict(X_test_scaled)\n",
    "\n",
    "# Calcular la precisión del modelo\n",
    "accuracy = accuracy_score(y_test, y_pred)\n",
    "print('Precisión del modelo:', accuracy)\n",
    "\n",
    "# Guardar el modelo en un archivo\n",
    "joblib.dump(model, './model/modelo_Type.joblib')"
   ]
  },
  {
   "cell_type": "markdown",
   "metadata": {},
   "source": [
    "# **Entrenamiento de la Predicción de Country**"
   ]
  },
  {
   "cell_type": "code",
   "execution_count": 1,
   "metadata": {},
   "outputs": [
    {
     "name": "stdout",
     "output_type": "stream",
     "text": [
      "Precisión del modelo: 0.5725453822711011\n"
     ]
    },
    {
     "data": {
      "text/plain": [
       "['./model/modelo_Country.joblib']"
      ]
     },
     "execution_count": 1,
     "metadata": {},
     "output_type": "execute_result"
    }
   ],
   "source": [
    "import pandas as pd\n",
    "from sklearn.model_selection import train_test_split\n",
    "from sklearn.linear_model import LogisticRegression\n",
    "from sklearn.preprocessing import StandardScaler\n",
    "from sklearn.metrics import accuracy_score\n",
    "import joblib\n",
    "\n",
    "# Cargar los datos desde el archivo CSV\n",
    "data = pd.read_csv('./data/data.csv')\n",
    "\n",
    "# Seleccionar las características relevantes para la predicción\n",
    "features = ['Latitude', 'Longitude', 'Depth', 'Mag']\n",
    "\n",
    "# Dividir los datos en características (X) y etiquetas (y)\n",
    "X = data[features]\n",
    "y = data['Country']  # Cambia 'Country' por la columna adecuada de etiquetas\n",
    "\n",
    "# Dividir los datos en conjuntos de entrenamiento y prueba\n",
    "X_train, X_test, y_train, y_test = train_test_split(\n",
    "    X, y, test_size=0.2, random_state=42)\n",
    "\n",
    "# Escalar los datos de entrenamiento y prueba\n",
    "scaler = StandardScaler()\n",
    "X_train_scaled = scaler.fit_transform(X_train)\n",
    "X_test_scaled = scaler.transform(X_test)\n",
    "\n",
    "# Crear un modelo de regresión logística\n",
    "model = LogisticRegression(max_iter=1000)\n",
    "\n",
    "# Entrenar el modelo con los datos de entrenamiento escalados\n",
    "model.fit(X_train_scaled, y_train)\n",
    "\n",
    "# Realizar predicciones en el conjunto de prueba\n",
    "y_pred = model.predict(X_test_scaled)\n",
    "\n",
    "# Calcular la precisión del modelo\n",
    "accuracy = accuracy_score(y_test, y_pred)\n",
    "print('Precisión del modelo:', accuracy)\n",
    "\n",
    "# Guardar el modelo en un archivo\n",
    "joblib.dump(model, './model/modelo_Country.joblib')"
   ]
  },
  {
   "cell_type": "markdown",
   "metadata": {},
   "source": [
    "# **Entrenamiento de la Predicción de Subtype**"
   ]
  },
  {
   "cell_type": "code",
   "execution_count": 2,
   "metadata": {},
   "outputs": [
    {
     "name": "stdout",
     "output_type": "stream",
     "text": [
      "Precisión del modelo: 0.9941698688220485\n"
     ]
    },
    {
     "data": {
      "text/plain": [
       "['./model/modelo_Subtype.joblib']"
      ]
     },
     "execution_count": 2,
     "metadata": {},
     "output_type": "execute_result"
    }
   ],
   "source": [
    "import pandas as pd\n",
    "from sklearn.model_selection import train_test_split\n",
    "from sklearn.linear_model import LogisticRegression\n",
    "from sklearn.preprocessing import StandardScaler\n",
    "from sklearn.metrics import accuracy_score\n",
    "import joblib\n",
    "\n",
    "# Cargar los datos desde el archivo CSV\n",
    "data = pd.read_csv('./data/data.csv')\n",
    "\n",
    "# Seleccionar las características relevantes para la predicción\n",
    "features = ['Latitude', 'Longitude', 'Depth', 'Mag']\n",
    "\n",
    "# Dividir los datos en características (X) y etiquetas (y)\n",
    "X = data[features]\n",
    "y = data['Subtype']\n",
    "\n",
    "# Dividir los datos en conjuntos de entrenamiento y prueba\n",
    "X_train, X_test, y_train, y_test = train_test_split(X, y, test_size=0.2, random_state=42)\n",
    "\n",
    "# Escalar los datos de entrenamiento y prueba\n",
    "scaler = StandardScaler()\n",
    "X_train_scaled = scaler.fit_transform(X_train)\n",
    "X_test_scaled = scaler.transform(X_test)\n",
    "\n",
    "# Crear un modelo de regresión logística\n",
    "model = LogisticRegression(max_iter=1000)\n",
    "\n",
    "# Entrenar el modelo con los datos de entrenamiento escalados\n",
    "model.fit(X_train_scaled, y_train)\n",
    "\n",
    "# Realizar predicciones en el conjunto de prueba\n",
    "y_pred = model.predict(X_test_scaled)\n",
    "\n",
    "# Calcular la precisión del modelo\n",
    "accuracy = accuracy_score(y_test, y_pred)\n",
    "print('Precisión del modelo:', accuracy)\n",
    "\n",
    "# Guardar el modelo en un archivo\n",
    "joblib.dump(model, './model/modelo_Subtype.joblib')"
   ]
  }
 ],
 "metadata": {
  "kernelspec": {
   "display_name": "base",
   "language": "python",
   "name": "python3"
  },
  "language_info": {
   "codemirror_mode": {
    "name": "ipython",
    "version": 3
   },
   "file_extension": ".py",
   "mimetype": "text/x-python",
   "name": "python",
   "nbconvert_exporter": "python",
   "pygments_lexer": "ipython3",
   "version": "3.9.12"
  },
  "orig_nbformat": 4
 },
 "nbformat": 4,
 "nbformat_minor": 2
}
